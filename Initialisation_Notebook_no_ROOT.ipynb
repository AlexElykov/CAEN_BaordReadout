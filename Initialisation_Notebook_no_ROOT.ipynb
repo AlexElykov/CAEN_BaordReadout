{
 "cells": [
  {
   "cell_type": "markdown",
   "metadata": {
    "deletable": true,
    "editable": true
   },
   "source": [
    "### Initialisation notebook no ROOT\n",
    "\n",
    "Collecting a bunch of useful functions and stuff for various levels of analysis"
   ]
  },
  {
   "cell_type": "markdown",
   "metadata": {},
   "source": [
    "Some notebooks with useful stuff:\n",
    " * https://github.com/XENON1T/SR1Results/blob/master/Calibration/inputs_for_bbf/reduce_data.py#L162\n",
    " * "
   ]
  },
  {
   "cell_type": "code",
   "execution_count": 1,
   "metadata": {
    "collapsed": false,
    "deletable": true,
    "editable": true
   },
   "outputs": [],
   "source": [
    "#### General Python packages ####\n",
    "#################################\n",
    "from scipy import stats\n",
    "import matplotlib.pyplot as plt\n",
    "\n",
    "from matplotlib.colors import LogNorm\n",
    "from matplotlib.patches import Rectangle\n",
    "from matplotlib.patches import Circle\n",
    "from matplotlib.legend_handler import HandlerPatch              # To draw circles in legends :D\n",
    "import matplotlib.patches as mpatches                           # To draw circles in legends :D\n",
    "from mpl_toolkits.mplot3d import Axes3D\n",
    "import mpl_toolkits.mplot3d.art3d as art3d\n",
    "\n",
    "import sys\n",
    "sys.path.append('/home/elykov/scratch_elykov2/Analysis/Wall_Leakage_Analysis/')\n",
    "sys.path.append('/home/elykov/.local/lib/python3.5/site-packages/')  # for installed tabulate\n",
    "\n",
    "\n",
    "from IPython.display import HTML, display\n",
    "import tabulate            # table display in cell\n",
    "\n",
    "import pandas as pd\n",
    "import numpy as np\n",
    "import time\n",
    "import os\n",
    "from tqdm import tqdm\n",
    "from time import strftime\n",
    "from pandas import read_hdf\n",
    "\n",
    "%matplotlib inline                                             \n",
    "# Set plots to be inline the notebook\n",
    "\n",
    "\n",
    "#### Some pyROOT and that can be seful for more complicated analysis ####\n",
    "#########################################################################\n",
    "# import ROOT\n",
    "# from ROOT import RooArgSet, RooDataSet, RooNDKeysPdf, RooRealVar,\\\n",
    "# RooAbsRealLValue, RooKeysPdf, RooPolynomial, RooArgList, RooBinning, RooAbsData, RooFit\n",
    "#from ROOT import TCanvas, TFile, TProfile, TNtuple, TH1F, TH2F, TMath, TF1, TH1\n",
    "\n",
    "# import rootnotes                       # Need this to make plots in jupyter notebook, taken from: https://gist.github.com/mazurov/6194738\n",
    "                                       # http://mazurov.github.io/webfest2013/\n",
    "\n",
    "# from root_pandas import read_root      # Convert and read the obtained ROOT TTree to a pandas dataframe using the following function:\n",
    "                                       # https://github.com/scikit-hep/root_pandas\n",
    "# from root_numpy import array2tree, tree2array, fill_hist, rec2array, hist2array, array2hist\n",
    "\n",
    "\n",
    "#### HAX and PAX related fucntions ####\n",
    "#######################################\n",
    "import hax\n",
    "hax_version = hax.__version__\n",
    "from hax import cuts\n",
    "from pax import units, configuration, datastructure"
   ]
  },
  {
   "cell_type": "code",
   "execution_count": 2,
   "metadata": {
    "collapsed": false,
    "deletable": true,
    "editable": true
   },
   "outputs": [
    {
     "name": "stdout",
     "output_type": "stream",
     "text": [
      "Initialization done, Notebook was last run on: 28/02/2018\n",
      "hax version 2.4.0\n"
     ]
    }
   ],
   "source": [
    "# Send a message that we have finished the initialization\n",
    "print('Initialization done, Notebook was last run on:', strftime(\"%d/%m/%Y\"))\n",
    "print('hax version %s' %hax_version)"
   ]
  },
  {
   "cell_type": "markdown",
   "metadata": {
    "deletable": true,
    "editable": true
   },
   "source": [
    "A class to draw pretty circles:"
   ]
  },
  {
   "cell_type": "code",
   "execution_count": 3,
   "metadata": {
    "collapsed": true,
    "deletable": true,
    "editable": true
   },
   "outputs": [],
   "source": [
    "# A class to plot circles in the legend, was shamelessly taken from some internet website\n",
    "class HandlerEllipse(HandlerPatch):\n",
    "    def create_artists(self, legend, orig_handle,\n",
    "                       xdescent, ydescent, width, height, fontsize, trans):\n",
    "        center = 0.5 * width - 0.5 * xdescent, 0.5 * height - 0.5 * ydescent\n",
    "        p = mpatches.Ellipse(xy=center, width=width + xdescent,\n",
    "                             height=height + ydescent)\n",
    "        self.update_prop(p, orig_handle, legend)\n",
    "        p.set_transform(trans)\n",
    "        return [p]"
   ]
  },
  {
   "cell_type": "code",
   "execution_count": 4,
   "metadata": {
    "collapsed": true,
    "deletable": true,
    "editable": true
   },
   "outputs": [],
   "source": [
    "# Importing some useful TPC parameters\n",
    "pax_config = configuration.load_configuration('XENON1T')\n",
    "tpc_height = pax_config['DEFAULT']['tpc_length']\n",
    "tpc_radius = pax_config['DEFAULT']['tpc_radius']\n",
    "      "
   ]
  },
  {
   "cell_type": "code",
   "execution_count": 5,
   "metadata": {
    "collapsed": true,
    "deletable": true,
    "editable": true
   },
   "outputs": [],
   "source": [
    "# Funcitons taken from here:\n",
    "# https://github.com/XENON1T/SR1Results/blob/master/Background/WallBackground/WallBackgroundModel/wall_background_model_roi_tail_fitting.ipynb\n",
    "def sigma_exp(logs2):\n",
    "    y = 0.95 * logs2 - 1.47\n",
    "    sigma = 1 / y\n",
    "    return sigma\n",
    "\n",
    "def plot_curve(n, c, st):\n",
    "    # plot for the curve\n",
    "    x = np.linspace(2, np.log10(2000), 100)\n",
    "    plt.plot(47.9 - n * sigma_exp(x), x, color = c, lw=2, ls=st, label='%d $\\sigma$' %n)\n",
    "    return None\n",
    "\n",
    "# Band limits taken from here:\n",
    "# https://xe1t-wiki.lngs.infn.it/doku.php?id=xenon:kazama:anomalous_bg_sr1#appendix_2er_nr-band_lines_estimated_with_pax_v680_3d_fdc_and_1300_kg_fvdef ng_nr_mean(cs1):\n",
    "def ng_nr_mean(cs1):\n",
    "    y = 0.170987 * np.exp(-cs1 / 40.0256) + 1.47624 - 0.00223465 * cs1 + 1.36355 / cs1\n",
    "    return y\n",
    "\n",
    "def ng_nr_m2s(cs1):\n",
    "    y = 28.1276*np.exp(-cs1/0.687178) + 1.38184 -0.00216714*cs1 + 0.450683/cs1\n",
    "    return y\n",
    "\n",
    "def ng_nr_p2s(cs1):\n",
    "    y = 0.843921*np.exp(-cs1/106.891) + 1.03573 -1.0002e-05*cs1 + 2.1521/cs1\n",
    "    return y\n",
    "\n",
    "def er_mean(cs1):\n",
    "    y = 0.413781*np.exp(-cs1/42.7873) + 1.53709 -0.000610923*cs1 + 1.82074/cs1\n",
    "    return y\n",
    "\n",
    "def er_m2s(cs1):\n",
    "    y = 0.374125*np.exp(-cs1/33.5861) + 1.43559 -0.000755488*cs1 + 1.33334/cs1\n",
    "    return y\n",
    "\n",
    "def er_p2s(cs1):\n",
    "    y = 0.483742*np.exp(-cs1/56.6718) + 1.60155 -0.000318184*cs1 + 2.3969/cs1\n",
    "    return y\n",
    "\n",
    "# 4 sigma checks\n"
   ]
  },
  {
   "cell_type": "code",
   "execution_count": null,
   "metadata": {
    "collapsed": true,
    "deletable": true,
    "editable": true
   },
   "outputs": [],
   "source": []
  }
 ],
 "metadata": {
  "kernelspec": {
   "display_name": "Python 3",
   "language": "python",
   "name": "python3"
  },
  "language_info": {
   "codemirror_mode": {
    "name": "ipython",
    "version": 3
   },
   "file_extension": ".py",
   "mimetype": "text/x-python",
   "name": "python",
   "nbconvert_exporter": "python",
   "pygments_lexer": "ipython3",
   "version": "3.4.4"
  }
 },
 "nbformat": 4,
 "nbformat_minor": 0
}
